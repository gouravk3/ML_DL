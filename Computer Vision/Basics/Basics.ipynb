{
 "cells": [
  {
   "cell_type": "code",
   "execution_count": null,
   "metadata": {},
   "outputs": [
    {
     "name": "stdout",
     "output_type": "stream",
     "text": [
      "Image Size:  1285956\n",
      "Dimension:  (756, 567, 3)\n",
      "Image Dtype:  uint8\n"
     ]
    }
   ],
   "source": [
    "import cv2\n",
    "img = cv2.imread(\"keyboard.jpg\")\n",
    "cv2.imwrite(\"RedKeyboard.jpg\", img)\n",
    "print(\"Image Size: \", img.size)\n",
    "print(\"Dimension: \", img.shape)\n",
    "print(\"Image Dtype: \", img.dtype)\n",
    "grayImg = cv2.cvtColor(img, cv2.COLOR_BGR2GRAY)\n",
    "cv2.imwrite(\"GrayImage.jpg\", grayImg)\n",
    "cv2.imshow(\"keyboard.jpg\", img)\n",
    "cv2.imshow(\"GrayImage.jpg\", grayImg)\n",
    "cv2.waitKey(0)"
   ]
  },
  {
   "cell_type": "code",
   "execution_count": 2,
   "metadata": {},
   "outputs": [],
   "source": [
    "cv2.destroyAllWindows()"
   ]
  },
  {
   "cell_type": "code",
   "execution_count": null,
   "metadata": {},
   "outputs": [],
   "source": []
  }
 ],
 "metadata": {
  "kernelspec": {
   "display_name": "Python 3",
   "language": "python",
   "name": "python3"
  },
  "language_info": {
   "codemirror_mode": {
    "name": "ipython",
    "version": 3
   },
   "file_extension": ".py",
   "mimetype": "text/x-python",
   "name": "python",
   "nbconvert_exporter": "python",
   "pygments_lexer": "ipython3",
   "version": "3.8.5"
  }
 },
 "nbformat": 4,
 "nbformat_minor": 4
}
