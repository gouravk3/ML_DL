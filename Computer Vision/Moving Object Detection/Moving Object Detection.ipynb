{
 "cells": [
  {
   "cell_type": "code",
   "execution_count": null,
   "metadata": {},
   "outputs": [],
   "source": [
    "import cv2\n",
    "import time\n",
    "import imutils\n",
    "\n",
    "cam = cv2.VideoCapture(0)\n",
    "time.sleep(1)\n",
    "i = 0\n",
    "firstFrame = None\n",
    "area = 500\n",
    "\n",
    "while True:\n",
    "    _,img = cam.read()\n",
    "    text = \"Normal\"\n",
    "    img = imutils.resize(img, width=500)\n",
    "    grayImg = cv2.cvtColor(img, cv2.COLOR_BGR2GRAY)\n",
    "    gaussianImg = cv2.GaussianBlur(grayImg, (21, 21), 0)\n",
    "    if firstFrame is None:\n",
    "        firstFrame = gaussianImg\n",
    "        continue\n",
    "    imgDiff = cv2.absdiff(firstFrame, gaussianImg)\n",
    "    threshImg = cv2.threshold(imgDiff, 25, 255, cv2.THRESH_BINARY)[1]\n",
    "    threshImg = cv2.dilate(threshImg, None, iterations=2)\n",
    "    cnts = cv2.findContours(threshImg.copy(), cv2.RETR_EXTERNAL,\n",
    "            cv2.CHAIN_APPROX_SIMPLE)\n",
    "    cnts = imutils.grab_contours(cnts)\n",
    "    for c in cnts:\n",
    "            if cv2.contourArea(c) < area:\n",
    "                    continue\n",
    "            (x, y, w, h) = cv2.boundingRect(c)\n",
    "            cv2.rectangle(img, (x, y), (x + w, y + h), (255, 255, 0), 2)\n",
    "            i += 1\n",
    "            text = (\"Moving Object detected: \" + str(i))\n",
    "\n",
    "    print(text)\n",
    "    cv2.putText(img, text, (10, 20),\n",
    "            cv2.FONT_HERSHEY_SIMPLEX, 0.5, (0, 0, 255), 2)\n",
    "    \n",
    "    cv2.imshow(\"CameraFeed\", img)\n",
    "    key = cv2.waitKey(1) & 0xFF\n",
    "    if key == ord(\"q\"):\n",
    "        break\n",
    "cv2.imwrite(\"ImageFromCamera.jpg\", img)\n",
    "cam.release()\n",
    "cv2.destroyAllWindows()"
   ]
  },
  {
   "cell_type": "code",
   "execution_count": null,
   "metadata": {},
   "outputs": [],
   "source": [
    "cv2.destroyAllWindows()"
   ]
  },
  {
   "cell_type": "code",
   "execution_count": null,
   "metadata": {},
   "outputs": [],
   "source": []
  },
  {
   "cell_type": "code",
   "execution_count": null,
   "metadata": {},
   "outputs": [],
   "source": []
  }
 ],
 "metadata": {
  "kernelspec": {
   "display_name": "Python 3",
   "language": "python",
   "name": "python3"
  }
 },
 "nbformat": 4,
 "nbformat_minor": 4
}
