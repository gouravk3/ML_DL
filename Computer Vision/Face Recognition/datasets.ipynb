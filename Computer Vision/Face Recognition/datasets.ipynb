{
 "cells": [
  {
   "cell_type": "code",
   "execution_count": 7,
   "metadata": {},
   "outputs": [
    {
     "name": "stdout",
     "output_type": "stream",
     "text": [
      "1\n",
      "2\n",
      "3\n",
      "4\n",
      "5\n",
      "7\n",
      "8\n",
      "9\n",
      "10\n",
      "11\n",
      "12\n",
      "13\n",
      "14\n",
      "15\n",
      "16\n",
      "17\n",
      "18\n",
      "19\n",
      "20\n",
      "21\n",
      "22\n",
      "23\n",
      "24\n",
      "25\n",
      "26\n",
      "27\n",
      "28\n",
      "29\n",
      "30\n",
      "31\n",
      "32\n",
      "33\n",
      "34\n",
      "35\n",
      "36\n",
      "37\n",
      "38\n",
      "39\n",
      "40\n",
      "41\n",
      "42\n",
      "43\n",
      "44\n",
      "45\n",
      "46\n",
      "47\n",
      "48\n",
      "49\n",
      "50\n",
      "Image Captured!\n"
     ]
    }
   ],
   "source": [
    "import cv2\n",
    "import os\n",
    "import urllib.request\n",
    "import numpy as np\n",
    "\n",
    "dataset = \"dataset\"\n",
    "name = \"Dhoni\"\n",
    "path = os.path.join(dataset, name)\n",
    "if not os.path.isdir(path):\n",
    "    os.makedirs(path)\n",
    "    \n",
    "(width, height) = (130, 100)\n",
    "alg = \"haarcascade_frontalface_default.xml\"\n",
    "haar_cascade = cv2.CascadeClassifier(alg)\n",
    "#cam = cv2.VideoCapture(0)\n",
    "url='http://192.168.1.5:8080/shot.jpg'\n",
    "    \n",
    "\n",
    "count = 1\n",
    "while count < 51:\n",
    "    print(count)\n",
    "    imgPath = urllib.request.urlopen(url)\n",
    "    imgNp = np.array(bytearray(imgPath.read()), dtype=np.uint8)\n",
    "    img = cv2.imdecode(imgNp, -1)\n",
    "    grayImg = cv2.cvtColor(img, cv2.COLOR_BGR2GRAY)\n",
    "    face = haar_cascade.detectMultiScale(grayImg, 1.3, 4)\n",
    "    for (x, y, w, h) in face:\n",
    "        cv2.rectangle(img, (x, y), (x+w, y+h), (0, 255, 0), 2)\n",
    "        faceOnly = grayImg[y:y+h, x:x+w]\n",
    "        resizeImg = cv2.resize(faceOnly, (width, height))\n",
    "        cv2.imwrite(\"%s/%s.jpg\" %(path,count), faceOnly)\n",
    "        count += 1\n",
    "        \n",
    "    cv2.imshow(\"FaceDetection\", img)\n",
    "    key = cv2.waitKey(10)\n",
    "    if key == 27:\n",
    "        break\n",
    "print(\"Image Captured!\")\n",
    "#cam.release()\n",
    "cv2.destroyAllWindows()"
   ]
  },
  {
   "cell_type": "code",
   "execution_count": 4,
   "metadata": {},
   "outputs": [],
   "source": [
    "cv2.destroyAllWindows()"
   ]
  },
  {
   "cell_type": "code",
   "execution_count": null,
   "metadata": {},
   "outputs": [],
   "source": []
  }
 ],
 "metadata": {
  "kernelspec": {
   "display_name": "Python 3",
   "language": "python",
   "name": "python3"
  },
  "language_info": {
   "codemirror_mode": {
    "name": "ipython",
    "version": 3
   },
   "file_extension": ".py",
   "mimetype": "text/x-python",
   "name": "python",
   "nbconvert_exporter": "python",
   "pygments_lexer": "ipython3",
   "version": "3.8.5"
  }
 },
 "nbformat": 4,
 "nbformat_minor": 4
}
