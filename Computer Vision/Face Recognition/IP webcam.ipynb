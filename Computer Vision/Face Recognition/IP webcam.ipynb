{
 "cells": [
  {
   "cell_type": "code",
   "execution_count": null,
   "metadata": {},
   "outputs": [],
   "source": [
    "import urllib.request\n",
    "import cv2\n",
    "import numpy as np\n",
    "import imutils\n",
    "\n",
    "url='http://192.168.1.5:8080/shot.jpg'\n",
    "while True:\n",
    "    imgPath = urllib.request.urlopen(url)\n",
    "    imgNp = np.array(bytearray(imgPath.read()), dtype=np.uint8)\n",
    "    img = cv2.imdecode(imgNp, -1)\n",
    "    img = imutils.resize(img, width=450)\n",
    "    cv2.imshow(\"CameraFeed\",img)\n",
    "    if ord('q') ==  cv2.waitKey(1):\n",
    "        exit(0)\n"
   ]
  },
  {
   "cell_type": "code",
   "execution_count": 6,
   "metadata": {},
   "outputs": [],
   "source": [
    "cv2.destroyAllWindows()"
   ]
  },
  {
   "cell_type": "code",
   "execution_count": null,
   "metadata": {},
   "outputs": [],
   "source": []
  }
 ],
 "metadata": {
  "kernelspec": {
   "display_name": "Python 3",
   "language": "python",
   "name": "python3"
  },
  "language_info": {
   "codemirror_mode": {
    "name": "ipython",
    "version": 3
   },
   "file_extension": ".py",
   "mimetype": "text/x-python",
   "name": "python",
   "nbconvert_exporter": "python",
   "pygments_lexer": "ipython3",
   "version": "3.8.5"
  }
 },
 "nbformat": 4,
 "nbformat_minor": 4
}
