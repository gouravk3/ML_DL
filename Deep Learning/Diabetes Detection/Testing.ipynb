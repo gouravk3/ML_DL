{
 "cells": [
  {
   "cell_type": "code",
   "execution_count": 13,
   "metadata": {},
   "outputs": [
    {
     "name": "stdout",
     "output_type": "stream",
     "text": [
      "Loaded model from disk\n",
      "[4.0, 129.0, 86.0, 20.0, 270.0, 35.1, 0.231, 23.0] => 0 (expected 0)\n",
      "[1.0, 79.0, 75.0, 30.0, 0.0, 32.0, 0.396, 22.0] => 0 (expected 0)\n",
      "[1.0, 0.0, 48.0, 20.0, 0.0, 24.7, 0.14, 22.0] => 0 (expected 0)\n",
      "[7.0, 62.0, 78.0, 0.0, 0.0, 32.6, 0.391, 41.0] => 0 (expected 0)\n",
      "[5.0, 95.0, 72.0, 33.0, 0.0, 37.7, 0.37, 27.0] => 0 (expected 0)\n",
      "[0.0, 131.0, 0.0, 0.0, 0.0, 43.2, 0.27, 26.0] => 1 (expected 1)\n",
      "[2.0, 112.0, 66.0, 22.0, 0.0, 25.0, 0.307, 24.0] => 0 (expected 0)\n",
      "[3.0, 113.0, 44.0, 13.0, 0.0, 22.4, 0.14, 22.0] => 0 (expected 0)\n",
      "[2.0, 74.0, 0.0, 0.0, 0.0, 0.0, 0.102, 22.0] => 0 (expected 0)\n",
      "[7.0, 83.0, 78.0, 26.0, 71.0, 29.3, 0.767, 36.0] => 0 (expected 0)\n"
     ]
    }
   ],
   "source": [
    "from numpy import loadtxt\n",
    "from keras.models import model_from_json\n",
    "dataset = loadtxt('pima-indians-diabetes.csv', delimiter=',')\n",
    "x = dataset[:,0:8]\n",
    "y = dataset[:,8]\n",
    "\n",
    "json_file = open('model.json', 'r')\n",
    "loaded_model_json = json_file.read()\n",
    "json_file.close()\n",
    "model = model_from_json(loaded_model_json)\n",
    "model.load_weights(\"model.h5\")\n",
    "print(\"Loaded model from disk\")\n",
    "\n",
    "predictions = model.predict_classes(x)\n",
    "for i in range(73,83):\n",
    "\tprint('%s => %d (expected %d)' % (x[i].tolist(), predictions[i], y[i]))\n"
   ]
  },
  {
   "cell_type": "code",
   "execution_count": null,
   "metadata": {},
   "outputs": [],
   "source": []
  },
  {
   "cell_type": "code",
   "execution_count": null,
   "metadata": {},
   "outputs": [],
   "source": []
  }
 ],
 "metadata": {
  "kernelspec": {
   "display_name": "Python 3",
   "language": "python",
   "name": "python3"
  },
  "language_info": {
   "codemirror_mode": {
    "name": "ipython",
    "version": 3
   },
   "file_extension": ".py",
   "mimetype": "text/x-python",
   "name": "python",
   "nbconvert_exporter": "python",
   "pygments_lexer": "ipython3",
   "version": "3.8.5"
  }
 },
 "nbformat": 4,
 "nbformat_minor": 4
}
