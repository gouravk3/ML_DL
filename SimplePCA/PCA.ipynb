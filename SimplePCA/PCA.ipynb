{
 "cells": [
  {
   "cell_type": "code",
   "execution_count": 1,
   "metadata": {
    "scrolled": true
   },
   "outputs": [
    {
     "name": "stdout",
     "output_type": "stream",
     "text": [
      "Data:  [[0.5 1. ]\n",
      " [0.  0. ]]\n",
      "Reduced:  [[-0.55901699]\n",
      " [ 0.55901699]]\n"
     ]
    }
   ],
   "source": [
    "from sklearn.decomposition import PCA\n",
    "import numpy as np\n",
    "k = 1 # target dimension(s)\n",
    "pca = PCA(k) # Create a new PCA instance\n",
    "\n",
    "data = np.array([[0.5, 1], [0, 0]]) # 2x2 data matrix\n",
    "print(\"Data: \", data)\n",
    "print(\"Reduced: \", pca.fit_transform(data)) # fit and transform"
   ]
  },
  {
   "cell_type": "code",
   "execution_count": 2,
   "metadata": {
    "scrolled": true
   },
   "outputs": [
    {
     "name": "stdout",
     "output_type": "stream",
     "text": [
      "Centered Matrix:  [[ 0.25  0.5 ]\n",
      " [-0.25 -0.5 ]]\n"
     ]
    }
   ],
   "source": [
    "data = data - data.mean(axis=0) # Center data points\n",
    "print(\"Centered Matrix: \", data)"
   ]
  },
  {
   "cell_type": "code",
   "execution_count": 3,
   "metadata": {},
   "outputs": [
    {
     "name": "stdout",
     "output_type": "stream",
     "text": [
      "Covariance matrix:  [[0.0625 0.125 ]\n",
      " [0.125  0.25  ]]\n"
     ]
    }
   ],
   "source": [
    "cov = np.cov(data.T) / data.shape[0] # Get covariance matrix\n",
    "print(\"Covariance matrix: \", cov)"
   ]
  },
  {
   "cell_type": "code",
   "execution_count": 4,
   "metadata": {},
   "outputs": [],
   "source": [
    "v, w = np.linalg.eig(cov)"
   ]
  },
  {
   "cell_type": "code",
   "execution_count": null,
   "metadata": {},
   "outputs": [],
   "source": [
    "idx = v.argsort()[::-1] # Sort descending and get sorted indices\n",
    "v = v[idx] # Use indices on eigv vector\n",
    "w = w[:,idx] # \n",
    "\n",
    "print(\"Eigenvalue vektoru: \", v)\n",
    "print(\"Eigenvektorler: \", w)"
   ]
  },
  {
   "cell_type": "code",
   "execution_count": 6,
   "metadata": {},
   "outputs": [
    {
     "name": "stdout",
     "output_type": "stream",
     "text": [
      "Sonuc:  [[-0.55901699]\n",
      " [ 0.55901699]]\n"
     ]
    }
   ],
   "source": [
    "print(\"Sonuc: \", data.dot(w[:, :k]))"
   ]
  },
  {
   "cell_type": "code",
   "execution_count": null,
   "metadata": {},
   "outputs": [],
   "source": []
  }
 ],
 "metadata": {
  "kernelspec": {
   "display_name": "Python 3",
   "language": "python",
   "name": "python3"
  },
  "language_info": {
   "codemirror_mode": {
    "name": "ipython",
    "version": 3
   },
   "file_extension": ".py",
   "mimetype": "text/x-python",
   "name": "python",
   "nbconvert_exporter": "python",
   "pygments_lexer": "ipython3",
   "version": "3.8.5"
  }
 },
 "nbformat": 4,
 "nbformat_minor": 4
}
